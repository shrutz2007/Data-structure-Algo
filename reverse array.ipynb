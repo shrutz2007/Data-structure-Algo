{
  "nbformat": 4,
  "nbformat_minor": 0,
  "metadata": {
    "colab": {
      "name": "Untitled2.ipynb",
      "provenance": []
    },
    "kernelspec": {
      "name": "python3",
      "display_name": "Python 3"
    }
  },
  "cells": [
    {
      "cell_type": "markdown",
      "metadata": {
        "id": "ORp-FPN7TCR3"
      },
      "source": [
        "# **Reverse the Array**"
      ]
    },
    {
      "cell_type": "code",
      "metadata": {
        "colab": {
          "base_uri": "https://localhost:8080/"
        },
        "id": "dEAxeUrdTHjd",
        "outputId": "23275161-d306-453c-933e-0a95c3489bb9"
      },
      "source": [
        "def reverse(A,start,end):\r\n",
        "  while start<end:\r\n",
        "    A[start],A[end]=A[end],A[start]\r\n",
        "    start+=1\r\n",
        "    end-=1\r\n",
        "A=[4,2,6,9,7,3]\r\n",
        "print(A)\r\n",
        "reverse(A,0,5)\r\n",
        "print(\"Reversed list is\")\r\n",
        "print(A)"
      ],
      "execution_count": 3,
      "outputs": [
        {
          "output_type": "stream",
          "text": [
            "[4, 2, 6, 9, 7, 3]\n",
            "Reversed list is\n",
            "[3, 7, 9, 6, 2, 4]\n"
          ],
          "name": "stdout"
        }
      ]
    }
  ]
}