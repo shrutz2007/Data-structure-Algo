{
  "nbformat": 4,
  "nbformat_minor": 0,
  "metadata": {
    "colab": {
      "name": "Untitled3.ipynb",
      "provenance": []
    },
    "kernelspec": {
      "name": "python3",
      "display_name": "Python 3"
    }
  },
  "cells": [
    {
      "cell_type": "code",
      "metadata": {
        "colab": {
          "base_uri": "https://localhost:8080/"
        },
        "id": "AsM8BkZLZr9a",
        "outputId": "9c4f88dd-59f5-46dd-9995-d440d8aaeee1"
      },
      "source": [
        "\r\n",
        "\r\n",
        "# Python program of above implementation\r\n",
        " \r\n",
        "# structure is used to return two values from minMax()\r\n",
        " \r\n",
        "class pair:\r\n",
        "    def __init__(self):\r\n",
        "        self.min = 0\r\n",
        "        self.max = 0\r\n",
        " \r\n",
        "def getMinMax(arr: list, n: int) -> pair:\r\n",
        "    minmax = pair()\r\n",
        " \r\n",
        "    # If there is only one element then return it as min and max both\r\n",
        "    if n == 1:\r\n",
        "        minmax.max = arr[0]\r\n",
        "        minmax.min = arr[0]\r\n",
        "        return minmax\r\n",
        " \r\n",
        "    # If there are more than one elements, then initialize min\r\n",
        "    # and max\r\n",
        "    if arr[0] > arr[1]:\r\n",
        "        minmax.max = arr[0]\r\n",
        "        minmax.min = arr[1]\r\n",
        "    else:\r\n",
        "        minmax.max = arr[1]\r\n",
        "        minmax.min = arr[0]\r\n",
        " \r\n",
        "    for i in range(2, n):\r\n",
        "        if arr[i] > minmax.max:\r\n",
        "            minmax.max = arr[i]\r\n",
        "        elif arr[i] < minmax.min:\r\n",
        "            minmax.min = arr[i]\r\n",
        " \r\n",
        "    return minmax\r\n",
        " \r\n",
        "# Driver Code\r\n",
        "if __name__ == \"__main__\":\r\n",
        "    arr = [1000, 11, 445, 1, 330, 3000]\r\n",
        "    arr_size = 6\r\n",
        "    minmax = getMinMax(arr, arr_size)\r\n",
        "    print(\"Minimum element is\", minmax.min)\r\n",
        "    print(\"Maximum element is\", minmax.max)"
      ],
      "execution_count": 9,
      "outputs": [
        {
          "output_type": "stream",
          "text": [
            "Minimum element is 1\n",
            "Maximum element is 3000\n"
          ],
          "name": "stdout"
        }
      ]
    }
  ]
}